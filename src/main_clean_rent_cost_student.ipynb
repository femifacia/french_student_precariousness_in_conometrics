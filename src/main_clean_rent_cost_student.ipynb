{
 "cells": [
  {
   "cell_type": "markdown",
   "metadata": {},
   "source": [
    "# Main imports"
   ]
  },
  {
   "cell_type": "code",
   "execution_count": 9,
   "metadata": {},
   "outputs": [],
   "source": [
    "import os\n",
    "import pandas as pd \n",
    "import matplotlib.pyplot as plt\n",
    "from datetime import datetime\n",
    "import numpy as np\n",
    "from tqdm import tqdm\n",
    "from collections import defaultdict\n",
    "import numpy as np\n",
    "\n",
    "\n",
    "pd.options.display.max_columns = 200\n",
    "pd.options.display.max_rows = 50"
   ]
  },
  {
   "cell_type": "markdown",
   "metadata": {},
   "source": [
    "# Load cost rent student csv"
   ]
  },
  {
   "cell_type": "code",
   "execution_count": 10,
   "metadata": {},
   "outputs": [],
   "source": [
    "rent_csv_path = \"../database/raw/rent_cost_student.csv\"\n",
    "\n",
    "rent_df = pd.read_csv(rent_csv_path,index_col=0)"
   ]
  },
  {
   "cell_type": "markdown",
   "metadata": {},
   "source": [
    "# Reindex but getting rid of numbers of departments"
   ]
  },
  {
   "cell_type": "code",
   "execution_count": 11,
   "metadata": {},
   "outputs": [
    {
     "data": {
      "text/html": [
       "<div>\n",
       "<style scoped>\n",
       "    .dataframe tbody tr th:only-of-type {\n",
       "        vertical-align: middle;\n",
       "    }\n",
       "\n",
       "    .dataframe tbody tr th {\n",
       "        vertical-align: top;\n",
       "    }\n",
       "\n",
       "    .dataframe thead th {\n",
       "        text-align: right;\n",
       "    }\n",
       "</style>\n",
       "<table border=\"1\" class=\"dataframe\">\n",
       "  <thead>\n",
       "    <tr style=\"text-align: right;\">\n",
       "      <th></th>\n",
       "      <th>Loyer m2 moyen\\nappartement</th>\n",
       "      <th>Loyer m2 moyen\\nmaison</th>\n",
       "    </tr>\n",
       "  </thead>\n",
       "  <tbody>\n",
       "    <tr>\n",
       "      <th>Ain</th>\n",
       "      <td>13,60€</td>\n",
       "      <td>13,70€</td>\n",
       "    </tr>\n",
       "    <tr>\n",
       "      <th>Aisne</th>\n",
       "      <td>11,10€</td>\n",
       "      <td>10,10€</td>\n",
       "    </tr>\n",
       "    <tr>\n",
       "      <th>Allier</th>\n",
       "      <td>10,80€</td>\n",
       "      <td>9,80€</td>\n",
       "    </tr>\n",
       "    <tr>\n",
       "      <th>Alpes de Hautes-Provence</th>\n",
       "      <td>11,70€</td>\n",
       "      <td>11,40€</td>\n",
       "    </tr>\n",
       "    <tr>\n",
       "      <th>Hautes-Alpes</th>\n",
       "      <td>12,00€</td>\n",
       "      <td>12,50€</td>\n",
       "    </tr>\n",
       "    <tr>\n",
       "      <th>...</th>\n",
       "      <td>...</td>\n",
       "      <td>...</td>\n",
       "    </tr>\n",
       "    <tr>\n",
       "      <th>Essonne</th>\n",
       "      <td>16,70€</td>\n",
       "      <td>18,40€</td>\n",
       "    </tr>\n",
       "    <tr>\n",
       "      <th>Hauts-de-Seine</th>\n",
       "      <td>25,00€</td>\n",
       "      <td>28,50€</td>\n",
       "    </tr>\n",
       "    <tr>\n",
       "      <th>Seine-Saint-Denis</th>\n",
       "      <td>20,20€</td>\n",
       "      <td>20,70€</td>\n",
       "    </tr>\n",
       "    <tr>\n",
       "      <th>Val-de-Marne</th>\n",
       "      <td>21,70€</td>\n",
       "      <td>23,40€</td>\n",
       "    </tr>\n",
       "    <tr>\n",
       "      <th>Val-d'Oise</th>\n",
       "      <td>17,60€</td>\n",
       "      <td>19,40€</td>\n",
       "    </tr>\n",
       "  </tbody>\n",
       "</table>\n",
       "<p>96 rows × 2 columns</p>\n",
       "</div>"
      ],
      "text/plain": [
       "                         Loyer m2 moyen\\nappartement Loyer m2 moyen\\nmaison\n",
       "Ain                                           13,60€                 13,70€\n",
       "Aisne                                         11,10€                 10,10€\n",
       "Allier                                        10,80€                  9,80€\n",
       "Alpes de Hautes-Provence                      11,70€                 11,40€\n",
       "Hautes-Alpes                                  12,00€                 12,50€\n",
       "...                                              ...                    ...\n",
       "Essonne                                       16,70€                 18,40€\n",
       "Hauts-de-Seine                                25,00€                 28,50€\n",
       "Seine-Saint-Denis                             20,20€                 20,70€\n",
       "Val-de-Marne                                  21,70€                 23,40€\n",
       "Val-d'Oise                                    17,60€                 19,40€\n",
       "\n",
       "[96 rows x 2 columns]"
      ]
     },
     "execution_count": 11,
     "metadata": {},
     "output_type": "execute_result"
    }
   ],
   "source": [
    "rent_df.columns\n",
    "new_index = [i[5:] for i in rent_df.index]\n",
    "rent_df.index = new_index\n",
    "rent_df"
   ]
  },
  {
   "cell_type": "markdown",
   "metadata": {},
   "source": [
    "# Fix columns \\n element"
   ]
  },
  {
   "cell_type": "code",
   "execution_count": 12,
   "metadata": {},
   "outputs": [],
   "source": [
    "rent_df.columns = [i.replace('\\n', ' ') for i in rent_df.columns]"
   ]
  },
  {
   "cell_type": "code",
   "execution_count": 13,
   "metadata": {},
   "outputs": [
    {
     "data": {
      "text/html": [
       "<div>\n",
       "<style scoped>\n",
       "    .dataframe tbody tr th:only-of-type {\n",
       "        vertical-align: middle;\n",
       "    }\n",
       "\n",
       "    .dataframe tbody tr th {\n",
       "        vertical-align: top;\n",
       "    }\n",
       "\n",
       "    .dataframe thead th {\n",
       "        text-align: right;\n",
       "    }\n",
       "</style>\n",
       "<table border=\"1\" class=\"dataframe\">\n",
       "  <thead>\n",
       "    <tr style=\"text-align: right;\">\n",
       "      <th></th>\n",
       "      <th>Loyer m2 moyen appartement</th>\n",
       "      <th>Loyer m2 moyen maison</th>\n",
       "    </tr>\n",
       "  </thead>\n",
       "  <tbody>\n",
       "    <tr>\n",
       "      <th>Ain</th>\n",
       "      <td>13,60€</td>\n",
       "      <td>13,70€</td>\n",
       "    </tr>\n",
       "    <tr>\n",
       "      <th>Aisne</th>\n",
       "      <td>11,10€</td>\n",
       "      <td>10,10€</td>\n",
       "    </tr>\n",
       "    <tr>\n",
       "      <th>Allier</th>\n",
       "      <td>10,80€</td>\n",
       "      <td>9,80€</td>\n",
       "    </tr>\n",
       "    <tr>\n",
       "      <th>Alpes de Hautes-Provence</th>\n",
       "      <td>11,70€</td>\n",
       "      <td>11,40€</td>\n",
       "    </tr>\n",
       "    <tr>\n",
       "      <th>Hautes-Alpes</th>\n",
       "      <td>12,00€</td>\n",
       "      <td>12,50€</td>\n",
       "    </tr>\n",
       "    <tr>\n",
       "      <th>...</th>\n",
       "      <td>...</td>\n",
       "      <td>...</td>\n",
       "    </tr>\n",
       "    <tr>\n",
       "      <th>Essonne</th>\n",
       "      <td>16,70€</td>\n",
       "      <td>18,40€</td>\n",
       "    </tr>\n",
       "    <tr>\n",
       "      <th>Hauts-de-Seine</th>\n",
       "      <td>25,00€</td>\n",
       "      <td>28,50€</td>\n",
       "    </tr>\n",
       "    <tr>\n",
       "      <th>Seine-Saint-Denis</th>\n",
       "      <td>20,20€</td>\n",
       "      <td>20,70€</td>\n",
       "    </tr>\n",
       "    <tr>\n",
       "      <th>Val-de-Marne</th>\n",
       "      <td>21,70€</td>\n",
       "      <td>23,40€</td>\n",
       "    </tr>\n",
       "    <tr>\n",
       "      <th>Val-d'Oise</th>\n",
       "      <td>17,60€</td>\n",
       "      <td>19,40€</td>\n",
       "    </tr>\n",
       "  </tbody>\n",
       "</table>\n",
       "<p>96 rows × 2 columns</p>\n",
       "</div>"
      ],
      "text/plain": [
       "                         Loyer m2 moyen appartement Loyer m2 moyen maison\n",
       "Ain                                          13,60€                13,70€\n",
       "Aisne                                        11,10€                10,10€\n",
       "Allier                                       10,80€                 9,80€\n",
       "Alpes de Hautes-Provence                     11,70€                11,40€\n",
       "Hautes-Alpes                                 12,00€                12,50€\n",
       "...                                             ...                   ...\n",
       "Essonne                                      16,70€                18,40€\n",
       "Hauts-de-Seine                               25,00€                28,50€\n",
       "Seine-Saint-Denis                            20,20€                20,70€\n",
       "Val-de-Marne                                 21,70€                23,40€\n",
       "Val-d'Oise                                   17,60€                19,40€\n",
       "\n",
       "[96 rows x 2 columns]"
      ]
     },
     "execution_count": 13,
     "metadata": {},
     "output_type": "execute_result"
    }
   ],
   "source": [
    "rent_df"
   ]
  },
  {
   "cell_type": "markdown",
   "metadata": {},
   "source": [
    "# Convert series from object to float"
   ]
  },
  {
   "cell_type": "code",
   "execution_count": 14,
   "metadata": {},
   "outputs": [
    {
     "data": {
      "text/html": [
       "<div>\n",
       "<style scoped>\n",
       "    .dataframe tbody tr th:only-of-type {\n",
       "        vertical-align: middle;\n",
       "    }\n",
       "\n",
       "    .dataframe tbody tr th {\n",
       "        vertical-align: top;\n",
       "    }\n",
       "\n",
       "    .dataframe thead th {\n",
       "        text-align: right;\n",
       "    }\n",
       "</style>\n",
       "<table border=\"1\" class=\"dataframe\">\n",
       "  <thead>\n",
       "    <tr style=\"text-align: right;\">\n",
       "      <th></th>\n",
       "      <th>Loyer m2 moyen appartement</th>\n",
       "      <th>Loyer m2 moyen maison</th>\n",
       "    </tr>\n",
       "  </thead>\n",
       "  <tbody>\n",
       "    <tr>\n",
       "      <th>Ain</th>\n",
       "      <td>13.6</td>\n",
       "      <td>13.7</td>\n",
       "    </tr>\n",
       "    <tr>\n",
       "      <th>Aisne</th>\n",
       "      <td>11.1</td>\n",
       "      <td>10.1</td>\n",
       "    </tr>\n",
       "    <tr>\n",
       "      <th>Allier</th>\n",
       "      <td>10.8</td>\n",
       "      <td>9.8</td>\n",
       "    </tr>\n",
       "    <tr>\n",
       "      <th>Alpes de Hautes-Provence</th>\n",
       "      <td>11.7</td>\n",
       "      <td>11.4</td>\n",
       "    </tr>\n",
       "    <tr>\n",
       "      <th>Hautes-Alpes</th>\n",
       "      <td>12.0</td>\n",
       "      <td>12.5</td>\n",
       "    </tr>\n",
       "    <tr>\n",
       "      <th>...</th>\n",
       "      <td>...</td>\n",
       "      <td>...</td>\n",
       "    </tr>\n",
       "    <tr>\n",
       "      <th>Essonne</th>\n",
       "      <td>16.7</td>\n",
       "      <td>18.4</td>\n",
       "    </tr>\n",
       "    <tr>\n",
       "      <th>Hauts-de-Seine</th>\n",
       "      <td>25.0</td>\n",
       "      <td>28.5</td>\n",
       "    </tr>\n",
       "    <tr>\n",
       "      <th>Seine-Saint-Denis</th>\n",
       "      <td>20.2</td>\n",
       "      <td>20.7</td>\n",
       "    </tr>\n",
       "    <tr>\n",
       "      <th>Val-de-Marne</th>\n",
       "      <td>21.7</td>\n",
       "      <td>23.4</td>\n",
       "    </tr>\n",
       "    <tr>\n",
       "      <th>Val-d'Oise</th>\n",
       "      <td>17.6</td>\n",
       "      <td>19.4</td>\n",
       "    </tr>\n",
       "  </tbody>\n",
       "</table>\n",
       "<p>96 rows × 2 columns</p>\n",
       "</div>"
      ],
      "text/plain": [
       "                          Loyer m2 moyen appartement  Loyer m2 moyen maison\n",
       "Ain                                             13.6                   13.7\n",
       "Aisne                                           11.1                   10.1\n",
       "Allier                                          10.8                    9.8\n",
       "Alpes de Hautes-Provence                        11.7                   11.4\n",
       "Hautes-Alpes                                    12.0                   12.5\n",
       "...                                              ...                    ...\n",
       "Essonne                                         16.7                   18.4\n",
       "Hauts-de-Seine                                  25.0                   28.5\n",
       "Seine-Saint-Denis                               20.2                   20.7\n",
       "Val-de-Marne                                    21.7                   23.4\n",
       "Val-d'Oise                                      17.6                   19.4\n",
       "\n",
       "[96 rows x 2 columns]"
      ]
     },
     "execution_count": 14,
     "metadata": {},
     "output_type": "execute_result"
    }
   ],
   "source": [
    "for i in rent_df:\n",
    "    rent_df[i] = rent_df[i].str.replace('€','').str.replace(',', '.').astype(float)\n",
    "\n",
    "rent_df"
   ]
  },
  {
   "cell_type": "code",
   "execution_count": 15,
   "metadata": {},
   "outputs": [
    {
     "data": {
      "text/plain": [
       "Loyer m2 moyen appartement    float64\n",
       "Loyer m2 moyen maison         float64\n",
       "dtype: object"
      ]
     },
     "execution_count": 15,
     "metadata": {},
     "output_type": "execute_result"
    }
   ],
   "source": [
    "rent_df.dtypes"
   ]
  },
  {
   "cell_type": "markdown",
   "metadata": {},
   "source": [
    "# Save cleaned DF"
   ]
  },
  {
   "cell_type": "code",
   "execution_count": 16,
   "metadata": {},
   "outputs": [],
   "source": [
    "path_cleaned = \"../database/cleaned/cleaned_rent_cost_student.csv\"\n",
    "\n",
    "rent_df.to_csv(path_cleaned)"
   ]
  }
 ],
 "metadata": {
  "kernelspec": {
   "display_name": "Python 3",
   "language": "python",
   "name": "python3"
  },
  "language_info": {
   "codemirror_mode": {
    "name": "ipython",
    "version": 3
   },
   "file_extension": ".py",
   "mimetype": "text/x-python",
   "name": "python",
   "nbconvert_exporter": "python",
   "pygments_lexer": "ipython3",
   "version": "3.12.3"
  }
 },
 "nbformat": 4,
 "nbformat_minor": 2
}
