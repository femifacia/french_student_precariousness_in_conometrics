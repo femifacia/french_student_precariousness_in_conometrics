{
 "cells": [
  {
   "cell_type": "markdown",
   "metadata": {},
   "source": [
    "# Main imports"
   ]
  },
  {
   "cell_type": "code",
   "execution_count": 1,
   "metadata": {},
   "outputs": [],
   "source": [
    "import os\n",
    "import pandas as pd \n",
    "import matplotlib.pyplot as plt\n",
    "from datetime import datetime\n",
    "import numpy as np\n",
    "from tqdm import tqdm\n",
    "from collections import defaultdict\n",
    "import numpy as np\n",
    "\n",
    "\n",
    "pd.options.display.max_columns = 200\n",
    "pd.options.display.max_rows = 50"
   ]
  },
  {
   "cell_type": "markdown",
   "metadata": {},
   "source": [
    "# Load cost rent student csv"
   ]
  },
  {
   "cell_type": "code",
   "execution_count": 2,
   "metadata": {},
   "outputs": [],
   "source": [
    "rent_csv_path = \"../database/raw/rent_cost_student.csv\"\n",
    "\n",
    "rent_df = pd.read_csv(rent_csv_path,index_col=0)"
   ]
  },
  {
   "cell_type": "markdown",
   "metadata": {},
   "source": [
    "# Reindex but getting rid of numbers of departments"
   ]
  },
  {
   "cell_type": "code",
   "execution_count": 3,
   "metadata": {},
   "outputs": [
    {
     "data": {
      "text/html": [
       "<div>\n",
       "<style scoped>\n",
       "    .dataframe tbody tr th:only-of-type {\n",
       "        vertical-align: middle;\n",
       "    }\n",
       "\n",
       "    .dataframe tbody tr th {\n",
       "        vertical-align: top;\n",
       "    }\n",
       "\n",
       "    .dataframe thead th {\n",
       "        text-align: right;\n",
       "    }\n",
       "</style>\n",
       "<table border=\"1\" class=\"dataframe\">\n",
       "  <thead>\n",
       "    <tr style=\"text-align: right;\">\n",
       "      <th></th>\n",
       "      <th>Loyer m2 moyen\\r\\nappartement</th>\n",
       "      <th>Loyer m2 moyen\\r\\nmaison</th>\n",
       "    </tr>\n",
       "  </thead>\n",
       "  <tbody>\n",
       "    <tr>\n",
       "      <th>Ain</th>\n",
       "      <td>13,60€</td>\n",
       "      <td>13,70€</td>\n",
       "    </tr>\n",
       "    <tr>\n",
       "      <th>Aisne</th>\n",
       "      <td>11,10€</td>\n",
       "      <td>10,10€</td>\n",
       "    </tr>\n",
       "    <tr>\n",
       "      <th>Allier</th>\n",
       "      <td>10,80€</td>\n",
       "      <td>9,80€</td>\n",
       "    </tr>\n",
       "    <tr>\n",
       "      <th>Alpes-de-Haute-Provence</th>\n",
       "      <td>11,70€</td>\n",
       "      <td>11,40€</td>\n",
       "    </tr>\n",
       "    <tr>\n",
       "      <th>Hautes-Alpes</th>\n",
       "      <td>12,00€</td>\n",
       "      <td>12,50€</td>\n",
       "    </tr>\n",
       "    <tr>\n",
       "      <th>...</th>\n",
       "      <td>...</td>\n",
       "      <td>...</td>\n",
       "    </tr>\n",
       "    <tr>\n",
       "      <th>Guadeloupe</th>\n",
       "      <td>12,00€</td>\n",
       "      <td>13,00€</td>\n",
       "    </tr>\n",
       "    <tr>\n",
       "      <th>Martinique</th>\n",
       "      <td>12,00€</td>\n",
       "      <td>13,00€</td>\n",
       "    </tr>\n",
       "    <tr>\n",
       "      <th>Mayotte</th>\n",
       "      <td>13,00€</td>\n",
       "      <td>13,00€</td>\n",
       "    </tr>\n",
       "    <tr>\n",
       "      <th>Guyane</th>\n",
       "      <td>13,00€</td>\n",
       "      <td>14,00€</td>\n",
       "    </tr>\n",
       "    <tr>\n",
       "      <th>La Réunion</th>\n",
       "      <td>10,00€</td>\n",
       "      <td>12,00€</td>\n",
       "    </tr>\n",
       "  </tbody>\n",
       "</table>\n",
       "<p>101 rows × 2 columns</p>\n",
       "</div>"
      ],
      "text/plain": [
       "                        Loyer m2 moyen\\r\\nappartement Loyer m2 moyen\\r\\nmaison\n",
       "Ain                                            13,60€                   13,70€\n",
       "Aisne                                          11,10€                   10,10€\n",
       "Allier                                         10,80€                    9,80€\n",
       "Alpes-de-Haute-Provence                        11,70€                   11,40€\n",
       "Hautes-Alpes                                   12,00€                   12,50€\n",
       "...                                               ...                      ...\n",
       "Guadeloupe                                     12,00€                   13,00€\n",
       "Martinique                                     12,00€                   13,00€\n",
       "Mayotte                                        13,00€                   13,00€\n",
       "Guyane                                         13,00€                   14,00€\n",
       "La Réunion                                     10,00€                   12,00€\n",
       "\n",
       "[101 rows x 2 columns]"
      ]
     },
     "execution_count": 3,
     "metadata": {},
     "output_type": "execute_result"
    }
   ],
   "source": [
    "rent_df.columns\n",
    "new_index = [i[5:] for i in rent_df.index]\n",
    "rent_df.index = new_index\n",
    "rent_df"
   ]
  },
  {
   "cell_type": "markdown",
   "metadata": {},
   "source": [
    "# Fix columns \\n element"
   ]
  },
  {
   "cell_type": "code",
   "execution_count": 4,
   "metadata": {},
   "outputs": [],
   "source": [
    "rent_df.columns = [i.replace('\\n', ' ') for i in rent_df.columns]"
   ]
  },
  {
   "cell_type": "code",
   "execution_count": 5,
   "metadata": {},
   "outputs": [
    {
     "data": {
      "text/html": [
       "<div>\n",
       "<style scoped>\n",
       "    .dataframe tbody tr th:only-of-type {\n",
       "        vertical-align: middle;\n",
       "    }\n",
       "\n",
       "    .dataframe tbody tr th {\n",
       "        vertical-align: top;\n",
       "    }\n",
       "\n",
       "    .dataframe thead th {\n",
       "        text-align: right;\n",
       "    }\n",
       "</style>\n",
       "<table border=\"1\" class=\"dataframe\">\n",
       "  <thead>\n",
       "    <tr style=\"text-align: right;\">\n",
       "      <th></th>\n",
       "      <th>Loyer m2 moyen\\r appartement</th>\n",
       "      <th>Loyer m2 moyen\\r maison</th>\n",
       "    </tr>\n",
       "  </thead>\n",
       "  <tbody>\n",
       "    <tr>\n",
       "      <th>Ain</th>\n",
       "      <td>13,60€</td>\n",
       "      <td>13,70€</td>\n",
       "    </tr>\n",
       "    <tr>\n",
       "      <th>Aisne</th>\n",
       "      <td>11,10€</td>\n",
       "      <td>10,10€</td>\n",
       "    </tr>\n",
       "    <tr>\n",
       "      <th>Allier</th>\n",
       "      <td>10,80€</td>\n",
       "      <td>9,80€</td>\n",
       "    </tr>\n",
       "    <tr>\n",
       "      <th>Alpes-de-Haute-Provence</th>\n",
       "      <td>11,70€</td>\n",
       "      <td>11,40€</td>\n",
       "    </tr>\n",
       "    <tr>\n",
       "      <th>Hautes-Alpes</th>\n",
       "      <td>12,00€</td>\n",
       "      <td>12,50€</td>\n",
       "    </tr>\n",
       "    <tr>\n",
       "      <th>...</th>\n",
       "      <td>...</td>\n",
       "      <td>...</td>\n",
       "    </tr>\n",
       "    <tr>\n",
       "      <th>Guadeloupe</th>\n",
       "      <td>12,00€</td>\n",
       "      <td>13,00€</td>\n",
       "    </tr>\n",
       "    <tr>\n",
       "      <th>Martinique</th>\n",
       "      <td>12,00€</td>\n",
       "      <td>13,00€</td>\n",
       "    </tr>\n",
       "    <tr>\n",
       "      <th>Mayotte</th>\n",
       "      <td>13,00€</td>\n",
       "      <td>13,00€</td>\n",
       "    </tr>\n",
       "    <tr>\n",
       "      <th>Guyane</th>\n",
       "      <td>13,00€</td>\n",
       "      <td>14,00€</td>\n",
       "    </tr>\n",
       "    <tr>\n",
       "      <th>La Réunion</th>\n",
       "      <td>10,00€</td>\n",
       "      <td>12,00€</td>\n",
       "    </tr>\n",
       "  </tbody>\n",
       "</table>\n",
       "<p>101 rows × 2 columns</p>\n",
       "</div>"
      ],
      "text/plain": [
       "                        Loyer m2 moyen\\r appartement Loyer m2 moyen\\r maison\n",
       "Ain                                           13,60€                  13,70€\n",
       "Aisne                                         11,10€                  10,10€\n",
       "Allier                                        10,80€                   9,80€\n",
       "Alpes-de-Haute-Provence                       11,70€                  11,40€\n",
       "Hautes-Alpes                                  12,00€                  12,50€\n",
       "...                                              ...                     ...\n",
       "Guadeloupe                                    12,00€                  13,00€\n",
       "Martinique                                    12,00€                  13,00€\n",
       "Mayotte                                       13,00€                  13,00€\n",
       "Guyane                                        13,00€                  14,00€\n",
       "La Réunion                                    10,00€                  12,00€\n",
       "\n",
       "[101 rows x 2 columns]"
      ]
     },
     "execution_count": 5,
     "metadata": {},
     "output_type": "execute_result"
    }
   ],
   "source": [
    "rent_df"
   ]
  },
  {
   "cell_type": "markdown",
   "metadata": {},
   "source": [
    "# Convert series from object to float"
   ]
  },
  {
   "cell_type": "code",
   "execution_count": 6,
   "metadata": {},
   "outputs": [
    {
     "data": {
      "text/html": [
       "<div>\n",
       "<style scoped>\n",
       "    .dataframe tbody tr th:only-of-type {\n",
       "        vertical-align: middle;\n",
       "    }\n",
       "\n",
       "    .dataframe tbody tr th {\n",
       "        vertical-align: top;\n",
       "    }\n",
       "\n",
       "    .dataframe thead th {\n",
       "        text-align: right;\n",
       "    }\n",
       "</style>\n",
       "<table border=\"1\" class=\"dataframe\">\n",
       "  <thead>\n",
       "    <tr style=\"text-align: right;\">\n",
       "      <th></th>\n",
       "      <th>Loyer m2 moyen\\r appartement</th>\n",
       "      <th>Loyer m2 moyen\\r maison</th>\n",
       "    </tr>\n",
       "  </thead>\n",
       "  <tbody>\n",
       "    <tr>\n",
       "      <th>Ain</th>\n",
       "      <td>13.6</td>\n",
       "      <td>13.7</td>\n",
       "    </tr>\n",
       "    <tr>\n",
       "      <th>Aisne</th>\n",
       "      <td>11.1</td>\n",
       "      <td>10.1</td>\n",
       "    </tr>\n",
       "    <tr>\n",
       "      <th>Allier</th>\n",
       "      <td>10.8</td>\n",
       "      <td>9.8</td>\n",
       "    </tr>\n",
       "    <tr>\n",
       "      <th>Alpes-de-Haute-Provence</th>\n",
       "      <td>11.7</td>\n",
       "      <td>11.4</td>\n",
       "    </tr>\n",
       "    <tr>\n",
       "      <th>Hautes-Alpes</th>\n",
       "      <td>12.0</td>\n",
       "      <td>12.5</td>\n",
       "    </tr>\n",
       "    <tr>\n",
       "      <th>...</th>\n",
       "      <td>...</td>\n",
       "      <td>...</td>\n",
       "    </tr>\n",
       "    <tr>\n",
       "      <th>Guadeloupe</th>\n",
       "      <td>12.0</td>\n",
       "      <td>13.0</td>\n",
       "    </tr>\n",
       "    <tr>\n",
       "      <th>Martinique</th>\n",
       "      <td>12.0</td>\n",
       "      <td>13.0</td>\n",
       "    </tr>\n",
       "    <tr>\n",
       "      <th>Mayotte</th>\n",
       "      <td>13.0</td>\n",
       "      <td>13.0</td>\n",
       "    </tr>\n",
       "    <tr>\n",
       "      <th>Guyane</th>\n",
       "      <td>13.0</td>\n",
       "      <td>14.0</td>\n",
       "    </tr>\n",
       "    <tr>\n",
       "      <th>La Réunion</th>\n",
       "      <td>10.0</td>\n",
       "      <td>12.0</td>\n",
       "    </tr>\n",
       "  </tbody>\n",
       "</table>\n",
       "<p>101 rows × 2 columns</p>\n",
       "</div>"
      ],
      "text/plain": [
       "                         Loyer m2 moyen\\r appartement  Loyer m2 moyen\\r maison\n",
       "Ain                                              13.6                     13.7\n",
       "Aisne                                            11.1                     10.1\n",
       "Allier                                           10.8                      9.8\n",
       "Alpes-de-Haute-Provence                          11.7                     11.4\n",
       "Hautes-Alpes                                     12.0                     12.5\n",
       "...                                               ...                      ...\n",
       "Guadeloupe                                       12.0                     13.0\n",
       "Martinique                                       12.0                     13.0\n",
       "Mayotte                                          13.0                     13.0\n",
       "Guyane                                           13.0                     14.0\n",
       "La Réunion                                       10.0                     12.0\n",
       "\n",
       "[101 rows x 2 columns]"
      ]
     },
     "execution_count": 6,
     "metadata": {},
     "output_type": "execute_result"
    }
   ],
   "source": [
    "for i in rent_df:\n",
    "    rent_df[i] = rent_df[i].str.replace('€','').str.replace(',', '.').astype(float)\n",
    "\n",
    "rent_df"
   ]
  },
  {
   "cell_type": "code",
   "execution_count": 7,
   "metadata": {},
   "outputs": [
    {
     "data": {
      "text/plain": [
       "Loyer m2 moyen\\r appartement    float64\n",
       "Loyer m2 moyen\\r maison         float64\n",
       "dtype: object"
      ]
     },
     "execution_count": 7,
     "metadata": {},
     "output_type": "execute_result"
    }
   ],
   "source": [
    "rent_df.dtypes"
   ]
  },
  {
   "cell_type": "markdown",
   "metadata": {},
   "source": [
    "# Save cleaned DF"
   ]
  },
  {
   "cell_type": "code",
   "execution_count": 8,
   "metadata": {},
   "outputs": [],
   "source": [
    "path_cleaned = \"../database/cleaned/cleaned_rent_cost_student.csv\"\n",
    "\n",
    "rent_df.to_csv(path_cleaned)"
   ]
  }
 ],
 "metadata": {
  "kernelspec": {
   "display_name": "Python 3",
   "language": "python",
   "name": "python3"
  },
  "language_info": {
   "codemirror_mode": {
    "name": "ipython",
    "version": 3
   },
   "file_extension": ".py",
   "mimetype": "text/x-python",
   "name": "python",
   "nbconvert_exporter": "python",
   "pygments_lexer": "ipython3",
   "version": "3.10.11"
  }
 },
 "nbformat": 4,
 "nbformat_minor": 2
}
