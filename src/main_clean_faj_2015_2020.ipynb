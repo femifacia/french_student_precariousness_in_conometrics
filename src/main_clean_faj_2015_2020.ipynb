{
 "cells": [
  {
   "cell_type": "markdown",
   "metadata": {},
   "source": [
    "# Main Imports"
   ]
  },
  {
   "cell_type": "code",
   "execution_count": 1,
   "metadata": {},
   "outputs": [],
   "source": [
    "import os\n",
    "import pandas as pd \n",
    "import matplotlib.pyplot as plt\n",
    "from datetime import datetime\n",
    "import numpy as np\n",
    "from tqdm import tqdm\n",
    "from collections import defaultdict\n",
    "import numpy as np\n",
    "\n",
    "\n",
    "pd.options.display.max_columns = 200\n",
    "pd.options.display.max_rows = 50"
   ]
  },
  {
   "cell_type": "code",
   "execution_count": 2,
   "metadata": {},
   "outputs": [],
   "source": [
    "raw_path = '../database/raw/faj2015-2020.csv'\n",
    "\n",
    "raw = pd.read_csv(raw_path,index_col=0)"
   ]
  },
  {
   "cell_type": "code",
   "execution_count": 3,
   "metadata": {},
   "outputs": [],
   "source": [
    "for i in raw:\n",
    "    raw[i] = raw[i].replace(\"nd\",np.nan).str.replace(\",\", '.').astype(float)"
   ]
  },
  {
   "cell_type": "code",
   "execution_count": 4,
   "metadata": {},
   "outputs": [
    {
     "data": {
      "text/plain": [
       "Budget FAJ (en euros)                                                        float64\n",
       "Montant des aides individuelles attribuées (en euros)                        float64\n",
       "Nombre d'aides individuelles attribuées (2)                                  float64\n",
       "Montant moyen de l'aide individuelle attribuée (en euros)                    float64\n",
       "Nombre de bénéficiaires du FAJ                                               float64\n",
       "Part de l'ensemble des jeunes de 20 à 24 ans vivant chez les parents en %    float64\n",
       "Population étudiante                                                         float64\n",
       "Taux pauvreté département                                                    float64\n",
       "Population étudiante sous le seuil de pauvreté                               float64\n",
       "dtype: object"
      ]
     },
     "execution_count": 4,
     "metadata": {},
     "output_type": "execute_result"
    }
   ],
   "source": [
    "raw.dtypes"
   ]
  },
  {
   "cell_type": "code",
   "execution_count": 5,
   "metadata": {},
   "outputs": [],
   "source": [
    "cleaned_path = \"../database/cleaned/cleaned_faj2015_2020.csv\"\n",
    "\n",
    "raw.to_csv(cleaned_path)"
   ]
  }
 ],
 "metadata": {
  "kernelspec": {
   "display_name": "Python 3",
   "language": "python",
   "name": "python3"
  },
  "language_info": {
   "codemirror_mode": {
    "name": "ipython",
    "version": 3
   },
   "file_extension": ".py",
   "mimetype": "text/x-python",
   "name": "python",
   "nbconvert_exporter": "python",
   "pygments_lexer": "ipython3",
   "version": "3.10.11"
  }
 },
 "nbformat": 4,
 "nbformat_minor": 2
}
